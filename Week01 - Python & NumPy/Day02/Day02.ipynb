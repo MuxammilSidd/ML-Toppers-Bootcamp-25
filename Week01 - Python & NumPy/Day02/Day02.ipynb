{
 "cells": [
  {
   "cell_type": "markdown",
   "id": "65f560c8",
   "metadata": {},
   "source": [
    "Day02 Task: Student Report Card Generator using OOP Principles"
   ]
  },
  {
   "cell_type": "code",
   "execution_count": 2,
   "id": "d6c4f376",
   "metadata": {},
   "outputs": [],
   "source": [
    "class Student:\n",
    "    def __init__(self, name, age):\n",
    "        self.name = name\n",
    "        self.age = age\n",
    "        self.grades = {}\n",
    "\n",
    "    def add_grade(self, subject, marks):\n",
    "        self.grades[subject] = marks\n",
    "\n",
    "    def calculate_average(self):\n",
    "        total = sum(self.grades.values())\n",
    "        return total / len(self.grades)\n",
    "\n",
    "    def assign_grade(self):\n",
    "        avg = self.calculate_average()\n",
    "        if avg >= 80:\n",
    "            return \"A\"\n",
    "        elif avg >= 60:\n",
    "            return \"B\"\n",
    "        elif avg >= 40:\n",
    "            return \"C\"\n",
    "        else:\n",
    "            return \"F\"\n",
    "\n",
    "    def apply_bonus(self, lambda_func):\n",
    "        for subject in self.grades:\n",
    "            self.grades[subject] = min(100, lambda_func(self.grades[subject]))\n",
    "\n",
    "    def generate_report(self):\n",
    "        report = f\"Name: {self.name}\\n\"\n",
    "        report += f\"Age: {self.age}\\n\"\n",
    "        for subject, marks in self.grades.items():\n",
    "            report += f\"{subject}: {marks}\\n\"\n",
    "        avg = self.calculate_average()\n",
    "        report += f\"Average: {avg:.2f}\\n\"\n",
    "        report += f\"Grade: {self.assign_grade()}\\n\"\n",
    "        return report\n",
    "\n",
    "    def save_to_file(self, filename):\n",
    "        with open(filename, \"w\") as file:\n",
    "            file.write(self.generate_report())\n",
    "\n",
    "    @staticmethod\n",
    "    def load_from_file(filename):\n",
    "        with open(filename, \"r\") as file:\n",
    "            print(file.read())\n"
   ]
  },
  {
   "cell_type": "code",
   "execution_count": 3,
   "id": "3c82f427",
   "metadata": {},
   "outputs": [],
   "source": [
    "name = input(\"Enter student's name: \")\n",
    "age = input(\"Enter age: \")\n",
    "student = Student(name, age)"
   ]
  },
  {
   "cell_type": "code",
   "execution_count": null,
   "id": "59c8c5ba",
   "metadata": {},
   "outputs": [],
   "source": [
    "student.add_grade(\"Math\", int(input(\"Enter marks for Math: \")))\n",
    "student.add_grade(\"English\", int(input(\"Enter marks for English: \")))\n",
    "student.add_grade(\"Physics\", int(input(\"Enter marks for Physics: \")))"
   ]
  },
  {
   "cell_type": "code",
   "execution_count": 5,
   "id": "33aebbd8",
   "metadata": {},
   "outputs": [
    {
     "name": "stdout",
     "output_type": "stream",
     "text": [
      "Bonus applied.\n"
     ]
    }
   ],
   "source": [
    "choice = input(\"Add 5 bonus marks to all subjects? (Y/N): \")\n",
    "if choice == 'Y':\n",
    "    student.apply_bonus(lambda x: x + 5)\n",
    "    print(\"Bonus applied.\")\n",
    "else:\n",
    "    print(\"No bonus applied.\")"
   ]
  },
  {
   "cell_type": "code",
   "execution_count": 6,
   "id": "b907219a",
   "metadata": {},
   "outputs": [
    {
     "name": "stdout",
     "output_type": "stream",
     "text": [
      "Report saved successfully!\n",
      "\n"
     ]
    }
   ],
   "source": [
    "filename = f\"{student.name}_report.txt\"\n",
    "student.save_to_file(filename)\n",
    "print(\"Report saved successfully!\\n\")"
   ]
  },
  {
   "cell_type": "code",
   "execution_count": 8,
   "id": "2f6de346",
   "metadata": {},
   "outputs": [
    {
     "name": "stdout",
     "output_type": "stream",
     "text": [
      "Report Card:\n",
      "\n",
      "Name: Muzammil\n",
      "Age: 19\n",
      "Math: 85\n",
      "English: 75\n",
      "Urdu: 70\n",
      "Average: 76.67\n",
      "Grade: B\n",
      "\n"
     ]
    }
   ],
   "source": [
    "print(\"Report Card:\\n\")\n",
    "Student.load_from_file(filename)"
   ]
  }
 ],
 "metadata": {
  "kernelspec": {
   "display_name": "Python 3",
   "language": "python",
   "name": "python3"
  },
  "language_info": {
   "codemirror_mode": {
    "name": "ipython",
    "version": 3
   },
   "file_extension": ".py",
   "mimetype": "text/x-python",
   "name": "python",
   "nbconvert_exporter": "python",
   "pygments_lexer": "ipython3",
   "version": "3.13.2"
  }
 },
 "nbformat": 4,
 "nbformat_minor": 5
}
