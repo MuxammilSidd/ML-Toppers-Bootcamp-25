{
 "cells": [
  {
   "cell_type": "markdown",
   "id": "29c0476a",
   "metadata": {
    "vscode": {
     "languageId": "html"
    }
   },
   "source": [
    "Day01 Task: Student Report Card Generator"
   ]
  },
  {
   "cell_type": "code",
   "execution_count": 1,
   "id": "f0f1e223",
   "metadata": {},
   "outputs": [],
   "source": [
    "name = input(\"Enter name: \")\n",
    "age = input(\"Enter age: \")"
   ]
  },
  {
   "cell_type": "code",
   "execution_count": 2,
   "id": "0a1361dc",
   "metadata": {},
   "outputs": [
    {
     "name": "stdout",
     "output_type": "stream",
     "text": [
      "Enter marks for English, Maths, Physics: \n"
     ]
    }
   ],
   "source": [
    "print(\"Enter marks for English, Maths, Physics: \")\n",
    "marks = []\n",
    "\n",
    "for i in range(3):\n",
    "    marks.append(int(input()))"
   ]
  },
  {
   "cell_type": "code",
   "execution_count": 3,
   "id": "0c569464",
   "metadata": {},
   "outputs": [],
   "source": [
    "#function to calculate average\n",
    "def avg(marks):\n",
    "    sum = 0\n",
    "    for i in range(len(marks)):\n",
    "        sum += marks[i]\n",
    "    return sum/len(marks)"
   ]
  },
  {
   "cell_type": "code",
   "execution_count": 11,
   "id": "71905c59",
   "metadata": {},
   "outputs": [
    {
     "name": "stdout",
     "output_type": "stream",
     "text": [
      "REPORT CARD FOR STUDENT:  Muzammil\n",
      "Average marks:  83.33333333333333\n"
     ]
    }
   ],
   "source": [
    "print(\"REPORT CARD FOR STUDENT: \",name)\n",
    "average = avg(marks)\n",
    "print(\"Average marks: \", average)\n"
   ]
  },
  {
   "cell_type": "code",
   "execution_count": 16,
   "id": "db0f9477",
   "metadata": {},
   "outputs": [],
   "source": [
    "def grade(avg):\n",
    "    if avg >= 80:\n",
    "        return \"A\"\n",
    "    elif avg >= 60:\n",
    "        return \"B\"\n",
    "    elif avg >= 40:\n",
    "        return \"C\"\n",
    "    else:\n",
    "        return \"F\""
   ]
  },
  {
   "cell_type": "code",
   "execution_count": 17,
   "id": "cece7bfd",
   "metadata": {},
   "outputs": [
    {
     "name": "stdout",
     "output_type": "stream",
     "text": [
      "Received Grade:  A\n"
     ]
    }
   ],
   "source": [
    "print(\"Received Grade: \", grade(average))"
   ]
  },
  {
   "cell_type": "code",
   "execution_count": 18,
   "id": "0294df97",
   "metadata": {},
   "outputs": [
    {
     "name": "stdout",
     "output_type": "stream",
     "text": [
      "..Proceeding with Report.\n"
     ]
    }
   ],
   "source": [
    "choice = (lambda: input(\"Would you like to add 5 bonus marks to all subjects? (Y/N)\"))()\n",
    "\n",
    "if choice == 'Y':\n",
    "    for i in range(3):\n",
    "        marks[i] += 5\n",
    "    print(\"Bonus added!\")\n",
    "else:\n",
    "    print(\"..Proceeding with Report.\")"
   ]
  },
  {
   "cell_type": "code",
   "execution_count": 25,
   "id": "c279f566",
   "metadata": {},
   "outputs": [
    {
     "name": "stdout",
     "output_type": "stream",
     "text": [
      "Generating report.\n",
      "Muzammil_report.txt successfully generated.\n"
     ]
    }
   ],
   "source": [
    "print(\"Generating report.\")\n",
    "with open(f\"{name}_report.txt\", \"w\") as file:\n",
    "    file.write(\"Name: \" + name + \"\\n\")\n",
    "    file.write(\"Age: \" + str(age) + \"\\n\")\n",
    "    file.write(\"Math: \" + str(marks[0]) + \"\\n\")\n",
    "    file.write(\"English: \" + str(marks[1]) + \"\\n\")\n",
    "    file.write(\"Physics: \" + str(marks[2]) + \"\\n\")\n",
    "    file.write(\"Avg: \" + str(average) + \"\\n\")\n",
    "    file.write(\"Grade: \" + grade(average) + \"\\n\")\n",
    "\n",
    "print(name, \"\\b_report.txt successfully generated.\")"
   ]
  },
  {
   "cell_type": "code",
   "execution_count": 28,
   "id": "a1c45d63",
   "metadata": {},
   "outputs": [
    {
     "name": "stdout",
     "output_type": "stream",
     "text": [
      "Muzammil_report.txt: \n",
      "\n",
      "Name: Muzammil\n",
      "Age: 19\n",
      "Math: 100\n",
      "English: 90\n",
      "Physics: 75\n",
      "Avg: 83.33333333333333\n",
      "Grade: A\n",
      "\n"
     ]
    }
   ],
   "source": [
    "print(f\"{name}_report.txt: \\n\")\n",
    "with open(f\"{name}_report.txt\", \"r\") as file:\n",
    "    print(file.read())"
   ]
  }
 ],
 "metadata": {
  "kernelspec": {
   "display_name": "Python 3",
   "language": "python",
   "name": "python3"
  },
  "language_info": {
   "codemirror_mode": {
    "name": "ipython",
    "version": 3
   },
   "file_extension": ".py",
   "mimetype": "text/x-python",
   "name": "python",
   "nbconvert_exporter": "python",
   "pygments_lexer": "ipython3",
   "version": "3.13.2"
  }
 },
 "nbformat": 4,
 "nbformat_minor": 5
}
