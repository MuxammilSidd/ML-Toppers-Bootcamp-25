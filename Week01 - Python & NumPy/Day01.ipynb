{
 "cells": [
  {
   "cell_type": "markdown",
   "id": "29c0476a",
   "metadata": {},
   "source": [
    "<img src=\"\"></img>"
   ]
  },
  {
   "cell_type": "code",
   "execution_count": null,
   "id": "f0f1e223",
   "metadata": {},
   "outputs": [],
   "source": []
  }
 ],
 "metadata": {
  "language_info": {
   "name": "python"
  }
 },
 "nbformat": 4,
 "nbformat_minor": 5
}
